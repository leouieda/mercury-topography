{
 "cells": [
  {
   "cell_type": "code",
   "execution_count": 1,
   "id": "52e8da87-d056-4c83-bbf3-199eb7f014c3",
   "metadata": {},
   "outputs": [],
   "source": [
    "from pathlib import Path\n",
    "import requests"
   ]
  },
  {
   "cell_type": "code",
   "execution_count": 2,
   "id": "34c5d537-f229-4123-8b0c-e5d0749f2a57",
   "metadata": {},
   "outputs": [],
   "source": [
    "data_dir = Path(\"..\") / \"data\""
   ]
  },
  {
   "cell_type": "code",
   "execution_count": 3,
   "id": "b18147d2-b0e7-4d53-890b-9234c3f65e2f",
   "metadata": {},
   "outputs": [
    {
     "data": {
      "text/plain": [
       "'https://pds-geosciences.wustl.edu/messenger/mess-e_v_h-mla-3_4-cdr_rdr-data-v2/messmla_2101/'"
      ]
     },
     "execution_count": 3,
     "metadata": {},
     "output_type": "execute_result"
    }
   ],
   "source": [
    "base_url = (data_dir / \"base_url.txt\").read_text()\n",
    "base_url"
   ]
  },
  {
   "cell_type": "code",
   "execution_count": 4,
   "id": "610b7fa4-1c20-4443-93ba-4bad3758a280",
   "metadata": {},
   "outputs": [],
   "source": [
    "response = requests.get(base_url + \"index/md5.tab\")\n",
    "response.raise_for_status()"
   ]
  },
  {
   "cell_type": "code",
   "execution_count": 5,
   "id": "6d25bbc9-3092-408a-8794-1e2239c53d08",
   "metadata": {},
   "outputs": [],
   "source": [
    "registry = []\n",
    "for line in response.text.split(\"\\r\\n\"):\n",
    "    if not line.strip():\n",
    "        continue\n",
    "    md5, path = [item.strip() for item in line.split()]\n",
    "    path = path.replace(\"\\\\\", \"/\")\n",
    "    md5 = f\"md5:{md5}\"\n",
    "    registry.append([path, md5])"
   ]
  },
  {
   "cell_type": "code",
   "execution_count": 6,
   "id": "02f4b542-1020-47c1-a6e4-1f1bb146425b",
   "metadata": {},
   "outputs": [
    {
     "data": {
      "text/plain": [
       "['gdr/img/hdem_75n_250m.img md5:3f85e777460c6489deb8fa5ab12592e4',\n",
       " 'gdr/jp2/hdem_75n_250m.jp2 md5:9f6f284cd2bf024dce965e90273f4649']"
      ]
     },
     "execution_count": 6,
     "metadata": {},
     "output_type": "execute_result"
    }
   ],
   "source": [
    "registry_grid = [\n",
    "    f\"{path} {md5}\"\n",
    "    for path, md5 in registry \n",
    "    if \"gdr\" in path and (path.endswith(\".jp2\") or path.endswith(\".img\"))\n",
    "]\n",
    "registry_grid"
   ]
  },
  {
   "cell_type": "code",
   "execution_count": 7,
   "id": "e4daf41c-20ac-484b-81da-470b6d4ae353",
   "metadata": {},
   "outputs": [
    {
     "name": "stdout",
     "output_type": "stream",
     "text": [
      "3284\n"
     ]
    },
    {
     "data": {
      "text/plain": [
       "['rdr_radr/2011/apr/mlascirdr1104010231.tab md5:ff01a1d865e972742a746c89c479fac5',\n",
       " 'rdr_radr/2011/apr/mlascirdr1104011436.tab md5:a66eb32435c9d2b1e4e521f099c66647',\n",
       " 'rdr_radr/2011/apr/mlascirdr1104020240.tab md5:6099e6468bc3a0225bcf3982b69755a0',\n",
       " 'rdr_radr/2011/apr/mlascirdr1104021445.tab md5:be4c6f40ffcca2b1a644e0fb450b331d',\n",
       " 'rdr_radr/2011/apr/mlascirdr1104030249.tab md5:6e7bea76e3deb532cc6cfff3cacc7b13']"
      ]
     },
     "execution_count": 7,
     "metadata": {},
     "output_type": "execute_result"
    }
   ],
   "source": [
    "registry_line = [\n",
    "    f\"{path} {md5}\" \n",
    "    for path, md5 in registry \n",
    "    if \"rdr_radr\" in path and path.endswith(\".tab\")\n",
    "]\n",
    "print(len(registry_line))\n",
    "registry_line[:5]"
   ]
  },
  {
   "cell_type": "code",
   "execution_count": 8,
   "id": "d44f55d5-64f7-4eb2-aed1-8d91add8d9f8",
   "metadata": {},
   "outputs": [
    {
     "data": {
      "text/plain": [
       "259435"
      ]
     },
     "execution_count": 8,
     "metadata": {},
     "output_type": "execute_result"
    }
   ],
   "source": [
    "(data_dir / \"registry_grid.txt\").write_text(\"\\n\".join(registry_grid))\n",
    "(data_dir / \"registry_line.txt\").write_text(\"\\n\".join(registry_line))"
   ]
  }
 ],
 "metadata": {
  "kernelspec": {
   "display_name": "Python [conda env:mercury-topography]",
   "language": "python",
   "name": "conda-env-mercury-topography-py"
  },
  "language_info": {
   "codemirror_mode": {
    "name": "ipython",
    "version": 3
   },
   "file_extension": ".py",
   "mimetype": "text/x-python",
   "name": "python",
   "nbconvert_exporter": "python",
   "pygments_lexer": "ipython3",
   "version": "3.10.0"
  }
 },
 "nbformat": 4,
 "nbformat_minor": 5
}
