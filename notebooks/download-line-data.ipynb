{
 "cells": [
  {
   "cell_type": "code",
   "execution_count": 1,
   "id": "6f2f4e49-44df-4cd1-8e00-7201f8de6882",
   "metadata": {},
   "outputs": [],
   "source": [
    "from pathlib import Path\n",
    "from tqdm import tqdm\n",
    "import pooch\n",
    "import numpy\n",
    "import pandas"
   ]
  },
  {
   "cell_type": "code",
   "execution_count": 2,
   "id": "bbaa2543-0344-4938-a473-396c01e9afc4",
   "metadata": {},
   "outputs": [],
   "source": [
    "logger = pooch.get_logger()\n",
    "logger.setLevel(\"WARNING\")"
   ]
  },
  {
   "cell_type": "code",
   "execution_count": 3,
   "id": "cd20d650-870b-4105-87ea-0d7dbdf914ef",
   "metadata": {},
   "outputs": [],
   "source": [
    "data_dir = Path(\"..\") / \"data\""
   ]
  },
  {
   "cell_type": "code",
   "execution_count": 4,
   "id": "67ba3c0b-3ff8-498d-9ca0-08ba281e4dd9",
   "metadata": {},
   "outputs": [
    {
     "data": {
      "text/plain": [
       "'https://pds-geosciences.wustl.edu/messenger/mess-e_v_h-mla-3_4-cdr_rdr-data-v2/messmla_2101/'"
      ]
     },
     "execution_count": 4,
     "metadata": {},
     "output_type": "execute_result"
    }
   ],
   "source": [
    "base_url = (data_dir / \"base_url.txt\").read_text()\n",
    "base_url"
   ]
  },
  {
   "cell_type": "code",
   "execution_count": 5,
   "id": "4d19fdae-1cc0-4838-9bf5-14a729e9b1b4",
   "metadata": {},
   "outputs": [],
   "source": [
    "goodboy = pooch.create(path=data_dir / \"raw\", base_url=base_url)\n",
    "goodboy.load_registry(data_dir / \"registry_line.txt\")"
   ]
  },
  {
   "cell_type": "code",
   "execution_count": 6,
   "id": "3a65768c-3d4c-4784-a57f-433e36c73ba0",
   "metadata": {},
   "outputs": [
    {
     "name": "stdout",
     "output_type": "stream",
     "text": [
      "3284\n"
     ]
    }
   ],
   "source": [
    "print(len(goodboy.registry_files))"
   ]
  },
  {
   "cell_type": "code",
   "execution_count": null,
   "id": "d8a23278-9ae4-4ab1-92a6-8a10748ee33d",
   "metadata": {},
   "outputs": [
    {
     "name": "stderr",
     "output_type": "stream",
     "text": [
      " 64%|███████████████████████████████████████████████████████████████████████████████████████████████████████████████████████████▉                                                                       | 2087/3284 [1:36:07<46:35,  2.34s/it]"
     ]
    }
   ],
   "source": [
    "%%time\n",
    "downloaded = []\n",
    "for fname in tqdm(goodboy.registry_files):\n",
    "    downloaded.append(goodboy.fetch(fname))"
   ]
  },
  {
   "cell_type": "code",
   "execution_count": null,
   "id": "9d07e13f-76ae-43b7-8018-9058fbb50a28",
   "metadata": {},
   "outputs": [],
   "source": []
  }
 ],
 "metadata": {
  "kernelspec": {
   "display_name": "Python [conda env:mercury-topography]",
   "language": "python",
   "name": "conda-env-mercury-topography-py"
  },
  "language_info": {
   "codemirror_mode": {
    "name": "ipython",
    "version": 3
   },
   "file_extension": ".py",
   "mimetype": "text/x-python",
   "name": "python",
   "nbconvert_exporter": "python",
   "pygments_lexer": "ipython3",
   "version": "3.10.0"
  }
 },
 "nbformat": 4,
 "nbformat_minor": 5
}
