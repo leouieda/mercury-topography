{
 "cells": [
  {
   "cell_type": "code",
   "execution_count": 1,
   "id": "ad6210dd-46ae-475d-b6e1-f8fd37ffb717",
   "metadata": {},
   "outputs": [],
   "source": [
    "from pathlib import Path\n",
    "from tqdm import tqdm\n",
    "import pooch\n",
    "import numpy\n",
    "import pandas"
   ]
  },
  {
   "cell_type": "code",
   "execution_count": 2,
   "id": "8b0cf205-13e4-4050-aace-53ba8df963ef",
   "metadata": {},
   "outputs": [],
   "source": [
    "data_dir = Path(\"..\") / \"data\""
   ]
  },
  {
   "cell_type": "code",
   "execution_count": 3,
   "id": "730b0566-44da-4d22-90de-6b3b7e829eee",
   "metadata": {},
   "outputs": [
    {
     "data": {
      "text/plain": [
       "'https://pds-geosciences.wustl.edu/messenger/mess-e_v_h-mla-3_4-cdr_rdr-data-v2/messmla_2101/'"
      ]
     },
     "execution_count": 3,
     "metadata": {},
     "output_type": "execute_result"
    }
   ],
   "source": [
    "base_url = (data_dir / \"base_url.txt\").read_text()\n",
    "base_url"
   ]
  },
  {
   "cell_type": "code",
   "execution_count": 6,
   "id": "5f6dd90f-54a2-4c97-b212-51d325a21194",
   "metadata": {},
   "outputs": [],
   "source": [
    "goodboy = pooch.create(path=data_dir / \"raw\", base_url=base_url)\n",
    "goodboy.load_registry(data_dir / \"registry_grid.txt\")"
   ]
  },
  {
   "cell_type": "code",
   "execution_count": 7,
   "id": "c009cd9e-17f0-4759-938e-e75a89356eaa",
   "metadata": {},
   "outputs": [
    {
     "name": "stdout",
     "output_type": "stream",
     "text": [
      "['gdr/img/hdem_75n_250m.img', 'gdr/jp2/hdem_75n_250m.jp2']\n"
     ]
    }
   ],
   "source": [
    "print(goodboy.registry_files)"
   ]
  },
  {
   "cell_type": "code",
   "execution_count": 8,
   "id": "19cd7f78-3497-415a-b5f2-0f7b966546a1",
   "metadata": {},
   "outputs": [
    {
     "name": "stderr",
     "output_type": "stream",
     "text": [
      "Downloading file 'gdr/jp2/hdem_75n_250m.jp2' from 'https://pds-geosciences.wustl.edu/messenger/mess-e_v_h-mla-3_4-cdr_rdr-data-v2/messmla_2101/gdr/jp2/hdem_75n_250m.jp2' to '/home/leo/src/mercury-topography/data/raw'.\n",
      "100%|█████████████████████████████████████| 19.5M/19.5M [00:00<00:00, 6.20GB/s]\n"
     ]
    }
   ],
   "source": [
    "downloaded = goodboy.fetch('gdr/jp2/hdem_75n_250m.jp2', progressbar=True)"
   ]
  },
  {
   "cell_type": "code",
   "execution_count": null,
   "id": "48d1952b-a8e6-4272-8a79-8f1fb1af7435",
   "metadata": {},
   "outputs": [],
   "source": []
  }
 ],
 "metadata": {
  "kernelspec": {
   "display_name": "Python [conda env:mercury-topography]",
   "language": "python",
   "name": "conda-env-mercury-topography-py"
  },
  "language_info": {
   "codemirror_mode": {
    "name": "ipython",
    "version": 3
   },
   "file_extension": ".py",
   "mimetype": "text/x-python",
   "name": "python",
   "nbconvert_exporter": "python",
   "pygments_lexer": "ipython3",
   "version": "3.10.0"
  }
 },
 "nbformat": 4,
 "nbformat_minor": 5
}
